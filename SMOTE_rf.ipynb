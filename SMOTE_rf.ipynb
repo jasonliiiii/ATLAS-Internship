{
 "cells": [
  {
   "cell_type": "code",
   "execution_count": 11,
   "metadata": {},
   "outputs": [],
   "source": [
    "import pandas as pd\n",
    "import matplotlib.pyplot as plt\n",
    "\n",
    "from sklearn.model_selection import train_test_split\n",
    "from sklearn.metrics import classification_report, confusion_matrix, ConfusionMatrixDisplay\n",
    "from sklearn.ensemble import RandomForestClassifier\n",
    "\n",
    "from imblearn.over_sampling import SMOTE\n",
    "\n",
    "# Tree Visualisation\n",
    "from sklearn.tree import export_graphviz\n",
    "import graphviz"
   ]
  },
  {
   "cell_type": "code",
   "execution_count": 12,
   "metadata": {},
   "outputs": [
    {
     "name": "stdout",
     "output_type": "stream",
     "text": [
      "<class 'pandas.core.frame.DataFrame'>\n",
      "RangeIndex: 486 entries, 0 to 485\n",
      "Data columns (total 14 columns):\n",
      " #   Column                                        Non-Null Count  Dtype  \n",
      "---  ------                                        --------------  -----  \n",
      " 0   Student ID                                    486 non-null    object \n",
      " 1   # Logins                                      486 non-null    int64  \n",
      " 2   # Content Reads                               486 non-null    int64  \n",
      " 3   # Forum Reads                                 486 non-null    int64  \n",
      " 4   # Forum Posts                                 486 non-null    int64  \n",
      " 5   # Quiz Reviews before submission              486 non-null    int64  \n",
      " 6   Assignment 1 lateness indicator               486 non-null    int64  \n",
      " 7   Assignment 2 lateness indicator               486 non-null    int64  \n",
      " 8   Assignment 3 lateness indicator               486 non-null    int64  \n",
      " 9   Assignment 1 duration to submit (in hours)    486 non-null    float64\n",
      " 10  Assignment 2 duration to submit (in hours)    486 non-null    float64\n",
      " 11  Assignment 3 duration to submit (in hours)    486 non-null    float64\n",
      " 12  Average time to submit assignment (in hours)  486 non-null    float64\n",
      " 13  Engagement Level                              486 non-null    object \n",
      "dtypes: float64(4), int64(8), object(2)\n",
      "memory usage: 53.3+ KB\n"
     ]
    }
   ],
   "source": [
    "df = pd.read_csv('data\\student\\engagement\\Student Engagement Level-Multiclass.csv')\n",
    "df.info()"
   ]
  },
  {
   "cell_type": "code",
   "execution_count": 13,
   "metadata": {},
   "outputs": [],
   "source": [
    "df['Engagement Level'] = df['Engagement Level'].map({'L': 0, 'M': 1, 'H': 2})\n",
    "df = df.drop('Student ID', axis=1)\n",
    "\n",
    "X = df.drop('Engagement Level', axis=1)\n",
    "y = df['Engagement Level']"
   ]
  },
  {
   "cell_type": "code",
   "execution_count": 14,
   "metadata": {},
   "outputs": [],
   "source": [
    "X_train, X_test, y_train, y_test = train_test_split(X, y, test_size=0.3, random_state=42, stratify=y)"
   ]
  },
  {
   "cell_type": "code",
   "execution_count": 15,
   "metadata": {},
   "outputs": [],
   "source": [
    "smote = SMOTE()\n",
    "X_smote, y_smote = smote.fit_resample(X_train, y_train)"
   ]
  },
  {
   "cell_type": "code",
   "execution_count": 16,
   "metadata": {},
   "outputs": [
    {
     "data": {
      "image/png": "[encoded data removed]",
      "text/plain": [
       "<Figure size 1200x600 with 2 Axes>"
      ]
     },
     "metadata": {},
     "output_type": "display_data"
    }
   ],
   "source": [
    "# Visualize the class distribution before and after data augmentation\n",
    "fig, ax = plt.subplots(1, 2, figsize=(12, 6))\n",
    "\n",
    "# Before SMOTE\n",
    "y_train.value_counts().plot(kind='bar', ax=ax[0], title='Class Distribution Before SMOTE')\n",
    "ax[0].set_xlabel('Engagement Level')\n",
    "ax[0].set_ylabel('Frequency')\n",
    "\n",
    "# After SMOTE\n",
    "y_smote.value_counts().plot(kind='bar', ax=ax[1], title='Class Distribution After SMOTE')\n",
    "ax[1].set_xlabel('Engagement Level')\n",
    "ax[1].set_ylabel('Frequency')\n",
    "\n",
    "plt.tight_layout()\n",
    "plt.show()"
   ]
  },
  {
   "cell_type": "code",
   "execution_count": 17,
   "metadata": {},
   "outputs": [],
   "source": [
    "rf = RandomForestClassifier()\n",
    "rf.fit(X_smote, y_smote)\n",
    "\n",
    "y_pred = rf.predict(X_test)"
   ]
  },
  {
   "cell_type": "code",
   "execution_count": 18,
   "metadata": {},
   "outputs": [
    {
     "data": {
      "image/svg+xml": [
       "<?xml version=\"1.0\" encoding=\"UTF-8\" standalone=\"no\"?>\n",
       "<!DOCTYPE svg PUBLIC \"-//W3C//DTD SVG 1.1//EN\"\n",
       " \"http://www.w3.org/Graphics/SVG/1.1/DTD/svg11.dtd\">\n",
       "<!-- Generated by graphviz version 2.50.0 (0)\n",
       " -->\n",
       "<!-- Title: Tree Pages: 1 -->\n",
       "<svg width=\"985pt\" height=\"311pt\"\n",
       " viewBox=\"0.00 0.00 984.50 311.00\" xmlns=\"http://www.w3.org/2000/svg\" xmlns:xlink=\"http://www.w3.org/1999/xlink\">\n",
       "<g id=\"graph0\" class=\"graph\" transform=\"scale(1 1) rotate(0) translate(4 307)\">\n",
       "<title>Tree</title>\n",
       "<polygon fill=\"white\" stroke=\"transparent\" points=\"-4,4 -4,-307 980.5,-307 980.5,4 -4,4\"/>\n",
       "<!-- 0 -->\n",
       "<g id=\"node1\" class=\"node\">\n",
       "<title>0</title>\n",
       "<polygon fill=\"#f6fef9\" stroke=\"black\" points=\"578.5,-303 398.5,-303 398.5,-250 578.5,-250 578.5,-303\"/>\n",
       "<text text-anchor=\"middle\" x=\"488.5\" y=\"-287.8\" font-family=\"Helvetica,sans-Serif\" font-size=\"14.00\"># Logins &lt;= 42.5</text>\n",
       "<text text-anchor=\"middle\" x=\"488.5\" y=\"-272.8\" font-family=\"Helvetica,sans-Serif\" font-size=\"14.00\">samples = 100.0%</text>\n",
       "<text text-anchor=\"middle\" x=\"488.5\" y=\"-257.8\" font-family=\"Helvetica,sans-Serif\" font-size=\"14.00\">value = [0.311, 0.359, 0.33]</text>\n",
       "</g>\n",
       "<!-- 1 -->\n",
       "<g id=\"node2\" class=\"node\">\n",
       "<title>1</title>\n",
       "<polygon fill=\"#eda774\" stroke=\"black\" points=\"486,-214 123,-214 123,-161 486,-161 486,-214\"/>\n",
       "<text text-anchor=\"middle\" x=\"304.5\" y=\"-198.8\" font-family=\"Helvetica,sans-Serif\" font-size=\"14.00\">Average time to submit assignment (in hours) &lt;= 317.624</text>\n",
       "<text text-anchor=\"middle\" x=\"304.5\" y=\"-183.8\" font-family=\"Helvetica,sans-Serif\" font-size=\"14.00\">samples = 24.4%</text>\n",
       "<text text-anchor=\"middle\" x=\"304.5\" y=\"-168.8\" font-family=\"Helvetica,sans-Serif\" font-size=\"14.00\">value = [0.754, 0.174, 0.072]</text>\n",
       "</g>\n",
       "<!-- 0&#45;&gt;1 -->\n",
       "<g id=\"edge1\" class=\"edge\">\n",
       "<title>0&#45;&gt;1</title>\n",
       "<path fill=\"none\" stroke=\"black\" d=\"M434.29,-249.87C413.42,-240 389.41,-228.65 367.76,-218.41\"/>\n",
       "<polygon fill=\"black\" stroke=\"black\" points=\"369.18,-215.21 358.64,-214.1 366.19,-221.54 369.18,-215.21\"/>\n",
       "<text text-anchor=\"middle\" x=\"367.07\" y=\"-233.94\" font-family=\"Helvetica,sans-Serif\" font-size=\"14.00\">True</text>\n",
       "</g>\n",
       "<!-- 8 -->\n",
       "<g id=\"node7\" class=\"node\">\n",
       "<title>8</title>\n",
       "<polygon fill=\"#fdfffe\" stroke=\"black\" points=\"841,-214 504,-214 504,-161 841,-161 841,-214\"/>\n",
       "<text text-anchor=\"middle\" x=\"672.5\" y=\"-198.8\" font-family=\"Helvetica,sans-Serif\" font-size=\"14.00\">Assignment 2 duration to submit (in hours) &lt;= 127.09</text>\n",
       "<text text-anchor=\"middle\" x=\"672.5\" y=\"-183.8\" font-family=\"Helvetica,sans-Serif\" font-size=\"14.00\">samples = 75.6%</text>\n",
       "<text text-anchor=\"middle\" x=\"672.5\" y=\"-168.8\" font-family=\"Helvetica,sans-Serif\" font-size=\"14.00\">value = [0.159, 0.423, 0.418]</text>\n",
       "</g>\n",
       "<!-- 0&#45;&gt;8 -->\n",
       "<g id=\"edge6\" class=\"edge\">\n",
       "<title>0&#45;&gt;8</title>\n",
       "<path fill=\"none\" stroke=\"black\" d=\"M542.71,-249.87C563.58,-240 587.59,-228.65 609.24,-218.41\"/>\n",
       "<polygon fill=\"black\" stroke=\"black\" points=\"610.81,-221.54 618.36,-214.1 607.82,-215.21 610.81,-221.54\"/>\n",
       "<text text-anchor=\"middle\" x=\"609.93\" y=\"-233.94\" font-family=\"Helvetica,sans-Serif\" font-size=\"14.00\">False</text>\n",
       "</g>\n",
       "<!-- 2 -->\n",
       "<g id=\"node3\" class=\"node\">\n",
       "<title>2</title>\n",
       "<polygon fill=\"#d0f9e1\" stroke=\"black\" points=\"251,-125 0,-125 0,-72 251,-72 251,-125\"/>\n",
       "<text text-anchor=\"middle\" x=\"125.5\" y=\"-109.8\" font-family=\"Helvetica,sans-Serif\" font-size=\"14.00\">Assignment 1 lateness indicator &lt;= 0.5</text>\n",
       "<text text-anchor=\"middle\" x=\"125.5\" y=\"-94.8\" font-family=\"Helvetica,sans-Serif\" font-size=\"14.00\">samples = 8.3%</text>\n",
       "<text text-anchor=\"middle\" x=\"125.5\" y=\"-79.8\" font-family=\"Helvetica,sans-Serif\" font-size=\"14.00\">value = [0.32, 0.48, 0.2]</text>\n",
       "</g>\n",
       "<!-- 1&#45;&gt;2 -->\n",
       "<g id=\"edge2\" class=\"edge\">\n",
       "<title>1&#45;&gt;2</title>\n",
       "<path fill=\"none\" stroke=\"black\" d=\"M251.76,-160.87C231.55,-151.04 208.31,-139.75 187.32,-129.55\"/>\n",
       "<polygon fill=\"black\" stroke=\"black\" points=\"188.69,-126.32 178.17,-125.1 185.63,-132.62 188.69,-126.32\"/>\n",
       "</g>\n",
       "<!-- 7 -->\n",
       "<g id=\"node6\" class=\"node\">\n",
       "<title>7</title>\n",
       "<polygon fill=\"#e58139\" stroke=\"black\" points=\"412,-117.5 269,-117.5 269,-79.5 412,-79.5 412,-117.5\"/>\n",
       "<text text-anchor=\"middle\" x=\"340.5\" y=\"-102.3\" font-family=\"Helvetica,sans-Serif\" font-size=\"14.00\">samples = 16.1%</text>\n",
       "<text text-anchor=\"middle\" x=\"340.5\" y=\"-87.3\" font-family=\"Helvetica,sans-Serif\" font-size=\"14.00\">value = [1.0, 0.0, 0.0]</text>\n",
       "</g>\n",
       "<!-- 1&#45;&gt;7 -->\n",
       "<g id=\"edge5\" class=\"edge\">\n",
       "<title>1&#45;&gt;7</title>\n",
       "<path fill=\"none\" stroke=\"black\" d=\"M315.11,-160.87C319.52,-150.2 324.65,-137.8 329.14,-126.94\"/>\n",
       "<polygon fill=\"black\" stroke=\"black\" points=\"332.46,-128.09 333.05,-117.51 325.99,-125.41 332.46,-128.09\"/>\n",
       "</g>\n",
       "<!-- 3 -->\n",
       "<g id=\"node4\" class=\"node\">\n",
       "<title>3</title>\n",
       "<polygon fill=\"#c0c0c0\" stroke=\"black\" points=\"116.5,-36 62.5,-36 62.5,0 116.5,0 116.5,-36\"/>\n",
       "<text text-anchor=\"middle\" x=\"89.5\" y=\"-14.3\" font-family=\"Helvetica,sans-Serif\" font-size=\"14.00\">(...)</text>\n",
       "</g>\n",
       "<!-- 2&#45;&gt;3 -->\n",
       "<g id=\"edge3\" class=\"edge\">\n",
       "<title>2&#45;&gt;3</title>\n",
       "<path fill=\"none\" stroke=\"black\" d=\"M113.71,-71.8C109.84,-63.35 105.53,-53.95 101.63,-45.45\"/>\n",
       "<polygon fill=\"black\" stroke=\"black\" points=\"104.8,-43.96 97.45,-36.33 98.43,-46.88 104.8,-43.96\"/>\n",
       "</g>\n",
       "<!-- 6 -->\n",
       "<g id=\"node5\" class=\"node\">\n",
       "<title>6</title>\n",
       "<polygon fill=\"#c0c0c0\" stroke=\"black\" points=\"188.5,-36 134.5,-36 134.5,0 188.5,0 188.5,-36\"/>\n",
       "<text text-anchor=\"middle\" x=\"161.5\" y=\"-14.3\" font-family=\"Helvetica,sans-Serif\" font-size=\"14.00\">(...)</text>\n",
       "</g>\n",
       "<!-- 2&#45;&gt;6 -->\n",
       "<g id=\"edge4\" class=\"edge\">\n",
       "<title>2&#45;&gt;6</title>\n",
       "<path fill=\"none\" stroke=\"black\" d=\"M137.29,-71.8C141.16,-63.35 145.47,-53.95 149.37,-45.45\"/>\n",
       "<polygon fill=\"black\" stroke=\"black\" points=\"152.57,-46.88 153.55,-36.33 146.2,-43.96 152.57,-46.88\"/>\n",
       "</g>\n",
       "<!-- 9 -->\n",
       "<g id=\"node8\" class=\"node\">\n",
       "<title>9</title>\n",
       "<polygon fill=\"#8640e6\" stroke=\"black\" points=\"770.5,-125 502.5,-125 502.5,-72 770.5,-72 770.5,-125\"/>\n",
       "<text text-anchor=\"middle\" x=\"636.5\" y=\"-109.8\" font-family=\"Helvetica,sans-Serif\" font-size=\"14.00\"># Quiz Reviews before submission &lt;= 5.5</text>\n",
       "<text text-anchor=\"middle\" x=\"636.5\" y=\"-94.8\" font-family=\"Helvetica,sans-Serif\" font-size=\"14.00\">samples = 32.4%</text>\n",
       "<text text-anchor=\"middle\" x=\"636.5\" y=\"-79.8\" font-family=\"Helvetica,sans-Serif\" font-size=\"14.00\">value = [0.035, 0.0, 0.965]</text>\n",
       "</g>\n",
       "<!-- 8&#45;&gt;9 -->\n",
       "<g id=\"edge7\" class=\"edge\">\n",
       "<title>8&#45;&gt;9</title>\n",
       "<path fill=\"none\" stroke=\"black\" d=\"M661.89,-160.87C658.48,-152.62 654.64,-143.34 651,-134.54\"/>\n",
       "<polygon fill=\"black\" stroke=\"black\" points=\"654.21,-133.15 647.16,-125.25 647.74,-135.83 654.21,-133.15\"/>\n",
       "</g>\n",
       "<!-- 24 -->\n",
       "<g id=\"node11\" class=\"node\">\n",
       "<title>24</title>\n",
       "<polygon fill=\"#7eeead\" stroke=\"black\" points=\"976.5,-125 788.5,-125 788.5,-72 976.5,-72 976.5,-125\"/>\n",
       "<text text-anchor=\"middle\" x=\"882.5\" y=\"-109.8\" font-family=\"Helvetica,sans-Serif\" font-size=\"14.00\"># Content Reads &lt;= 186.0</text>\n",
       "<text text-anchor=\"middle\" x=\"882.5\" y=\"-94.8\" font-family=\"Helvetica,sans-Serif\" font-size=\"14.00\">samples = 43.2%</text>\n",
       "<text text-anchor=\"middle\" x=\"882.5\" y=\"-79.8\" font-family=\"Helvetica,sans-Serif\" font-size=\"14.00\">value = [0.252, 0.739, 0.009]</text>\n",
       "</g>\n",
       "<!-- 8&#45;&gt;24 -->\n",
       "<g id=\"edge10\" class=\"edge\">\n",
       "<title>8&#45;&gt;24</title>\n",
       "<path fill=\"none\" stroke=\"black\" d=\"M734.09,-160.98C758.34,-150.94 786.35,-139.34 811.45,-128.94\"/>\n",
       "<polygon fill=\"black\" stroke=\"black\" points=\"813.01,-132.08 820.91,-125.01 810.33,-125.61 813.01,-132.08\"/>\n",
       "</g>\n",
       "<!-- 10 -->\n",
       "<g id=\"node9\" class=\"node\">\n",
       "<title>10</title>\n",
       "<polygon fill=\"#c0c0c0\" stroke=\"black\" points=\"627.5,-36 573.5,-36 573.5,0 627.5,0 627.5,-36\"/>\n",
       "<text text-anchor=\"middle\" x=\"600.5\" y=\"-14.3\" font-family=\"Helvetica,sans-Serif\" font-size=\"14.00\">(...)</text>\n",
       "</g>\n",
       "<!-- 9&#45;&gt;10 -->\n",
       "<g id=\"edge8\" class=\"edge\">\n",
       "<title>9&#45;&gt;10</title>\n",
       "<path fill=\"none\" stroke=\"black\" d=\"M624.71,-71.8C620.84,-63.35 616.53,-53.95 612.63,-45.45\"/>\n",
       "<polygon fill=\"black\" stroke=\"black\" points=\"615.8,-43.96 608.45,-36.33 609.43,-46.88 615.8,-43.96\"/>\n",
       "</g>\n",
       "<!-- 21 -->\n",
       "<g id=\"node10\" class=\"node\">\n",
       "<title>21</title>\n",
       "<polygon fill=\"#c0c0c0\" stroke=\"black\" points=\"699.5,-36 645.5,-36 645.5,0 699.5,0 699.5,-36\"/>\n",
       "<text text-anchor=\"middle\" x=\"672.5\" y=\"-14.3\" font-family=\"Helvetica,sans-Serif\" font-size=\"14.00\">(...)</text>\n",
       "</g>\n",
       "<!-- 9&#45;&gt;21 -->\n",
       "<g id=\"edge9\" class=\"edge\">\n",
       "<title>9&#45;&gt;21</title>\n",
       "<path fill=\"none\" stroke=\"black\" d=\"M648.29,-71.8C652.16,-63.35 656.47,-53.95 660.37,-45.45\"/>\n",
       "<polygon fill=\"black\" stroke=\"black\" points=\"663.57,-46.88 664.55,-36.33 657.2,-43.96 663.57,-46.88\"/>\n",
       "</g>\n",
       "<!-- 25 -->\n",
       "<g id=\"node12\" class=\"node\">\n",
       "<title>25</title>\n",
       "<polygon fill=\"#c0c0c0\" stroke=\"black\" points=\"873.5,-36 819.5,-36 819.5,0 873.5,0 873.5,-36\"/>\n",
       "<text text-anchor=\"middle\" x=\"846.5\" y=\"-14.3\" font-family=\"Helvetica,sans-Serif\" font-size=\"14.00\">(...)</text>\n",
       "</g>\n",
       "<!-- 24&#45;&gt;25 -->\n",
       "<g id=\"edge11\" class=\"edge\">\n",
       "<title>24&#45;&gt;25</title>\n",
       "<path fill=\"none\" stroke=\"black\" d=\"M870.71,-71.8C866.84,-63.35 862.53,-53.95 858.63,-45.45\"/>\n",
       "<polygon fill=\"black\" stroke=\"black\" points=\"861.8,-43.96 854.45,-36.33 855.43,-46.88 861.8,-43.96\"/>\n",
       "</g>\n",
       "<!-- 30 -->\n",
       "<g id=\"node13\" class=\"node\">\n",
       "<title>30</title>\n",
       "<polygon fill=\"#c0c0c0\" stroke=\"black\" points=\"945.5,-36 891.5,-36 891.5,0 945.5,0 945.5,-36\"/>\n",
       "<text text-anchor=\"middle\" x=\"918.5\" y=\"-14.3\" font-family=\"Helvetica,sans-Serif\" font-size=\"14.00\">(...)</text>\n",
       "</g>\n",
       "<!-- 24&#45;&gt;30 -->\n",
       "<g id=\"edge12\" class=\"edge\">\n",
       "<title>24&#45;&gt;30</title>\n",
       "<path fill=\"none\" stroke=\"black\" d=\"M894.29,-71.8C898.16,-63.35 902.47,-53.95 906.37,-45.45\"/>\n",
       "<polygon fill=\"black\" stroke=\"black\" points=\"909.57,-46.88 910.55,-36.33 903.2,-43.96 909.57,-46.88\"/>\n",
       "</g>\n",
       "</g>\n",
       "</svg>\n"
      ],
      "text/plain": [
       "<graphviz.sources.Source at 0x1bba993e040>"
      ]
     },
     "metadata": {},
     "output_type": "display_data"
    }
   ],
   "source": [
    "# Export the first three decision trees from the forest\n",
    "\n",
    "for i in range(1):\n",
    "    tree = rf.estimators_[i]\n",
    "    dot_data = export_graphviz(tree,\n",
    "                               feature_names=X_train.columns,  \n",
    "                               filled=True,  \n",
    "                               max_depth=2, \n",
    "                               impurity=False, \n",
    "                               proportion=True)\n",
    "    graph = graphviz.Source(dot_data)\n",
    "    display(graph)"
   ]
  },
  {
   "cell_type": "code",
   "execution_count": 19,
   "metadata": {},
   "outputs": [
    {
     "name": "stdout",
     "output_type": "stream",
     "text": [
      "\n",
      "Classification Report:\n",
      "              precision    recall  f1-score   support\n",
      "\n",
      "           0       0.80      1.00      0.89         4\n",
      "           1       1.00      0.98      0.99        64\n",
      "           2       1.00      1.00      1.00        78\n",
      "\n",
      "    accuracy                           0.99       146\n",
      "   macro avg       0.93      0.99      0.96       146\n",
      "weighted avg       0.99      0.99      0.99       146\n",
      "\n"
     ]
    }
   ],
   "source": [
    "print(\"\\nClassification Report:\")\n",
    "print(classification_report(y_test, y_pred))"
   ]
  },
  {
   "cell_type": "code",
   "execution_count": 20,
   "metadata": {},
   "outputs": [
    {
     "data": {
      "text/plain": [
       "<sklearn.metrics._plot.confusion_matrix.ConfusionMatrixDisplay at 0x1bba97d8b50>"
      ]
     },
     "execution_count": 20,
     "metadata": {},
     "output_type": "execute_result"
    },
    {
     "data": {
      "image/png": "[encoded data removed]",
      "text/plain": [
       "<Figure size 640x480 with 2 Axes>"
      ]
     },
     "metadata": {},
     "output_type": "display_data"
    }
   ],
   "source": [
    "# Create the confusion matrix\n",
    "cm = confusion_matrix(y_test, y_pred)\n",
    "\n",
    "ConfusionMatrixDisplay(confusion_matrix=cm).plot()"
   ]
  }
 ],
 "metadata": {
  "kernelspec": {
   "display_name": "atlas",
   "language": "python",
   "name": "python3"
  },
  "language_info": {
   "codemirror_mode": {
    "name": "ipython",
    "version": 3
   },
   "file_extension": ".py",
   "mimetype": "text/x-python",
   "name": "python",
   "nbconvert_exporter": "python",
   "pygments_lexer": "ipython3",
   "version": "3.8.19"
  }
 },
 "nbformat": 4,
 "nbformat_minor": 2
}
